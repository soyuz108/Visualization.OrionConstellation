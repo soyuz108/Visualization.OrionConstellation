{
 "cells": [
  {
   "cell_type": "markdown",
   "metadata": {},
   "source": [
    "### Project: Visualizing the Orion Constellation\n",
    "\n",
    "In this project our goal is to visualize the Orion constellation in 3D using the Matplotlib function `.scatter()`. We will create a rotate-able visualization of the position of the Orion's stars and get a better sense of their actual positions. \n",
    "\n",
    "To achieve this, we will be mapping real data from outer space that maps the position of the stars in the sky. Once we visualize Orion in both 2D and 3D, we will be able to see the difference in the constellation shape humans see from earth versus the actual position of the stars that make up this constellation. \n",
    "\n",
    "<img src=\"https://www.planetguide.net/wp-content/uploads/2020/06/orion-constellation.webp\" alt=\"Orion\" style=\"width: 400px;\"/>"
   ]
  },
  {
   "cell_type": "markdown",
   "metadata": {},
   "source": []
  }
 ],
 "metadata": {
  "language_info": {
   "name": "python"
  },
  "orig_nbformat": 4
 },
 "nbformat": 4,
 "nbformat_minor": 2
}
